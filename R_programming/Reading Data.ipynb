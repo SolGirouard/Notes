{
 "cells": [
  {
   "cell_type": "markdown",
   "metadata": {},
   "source": [
    "# Reading Data\n",
    "\n",
    "There are a few principal functions reading data into R.\n",
    "* `read.table` and read.csv for reading tabular data _(inverse of `write.table`)_\n",
    "* `readLines` for reading lines of a text file  _(inverse of `writeLines`)_\n",
    "* `source` for reading in R code files _(inverse of `dump`)_\n",
    "* `dget` for reading in R code files _(inverse of `dput`)_\n",
    "* `load` for reading in saved workspaces  _(inverse of `save`)_\n",
    "* `unserialize` for reading single R objects in binary form  _(inverse of `serialize`)_"
   ]
  },
  {
   "cell_type": "markdown",
   "metadata": {},
   "source": [
    "### Reading Data Files with `read.table`\n",
    "\n",
    "The `read.table` function is one of th emost commonly used functions for reading data. It has a few important arguments:\n",
    "* `file` - the name of a file\n",
    "* `header` - logical (True/False) indicating if the file has a header line (first line has variable names or is data\n",
    "* `sep` - a string indicating how the columns are separated (',' or ';' or ' ')\n",
    "* `colClasses` - a characer vector indicating the class of each column in the dataset\n",
    "* `nrows` - the number of rows in the dataset \n",
    "* `comment.char` - a character string indicating the comment character (anything after this character will be treated as a comment)\n",
    "* `skip` the number of lines to skip from the beginning\n",
    "* `stringAsFactors` - should character variables be coded as factors?"
   ]
  },
  {
   "cell_type": "markdown",
   "metadata": {},
   "source": [
    "For small to moderately sized datasets you can call read.table without specifying any other arguments\n",
    "\n",
    "`data <- read.table(\"foo.txt\")`\n",
    "\n",
    "R will automatically:\n",
    "* return a data frame\n",
    "* skip lines that begin with a #\n",
    "* figure out how many rows there are (and how much memory needs to be allocated)\n",
    "* figure out what type of variable is in each column of the table. Telling R all these things directly though makes R run faster and more efficiently\n",
    "* `read.csv` is identical to read.table except that the default separator is comma\n"
   ]
  },
  {
   "cell_type": "markdown",
   "metadata": {
    "collapsed": true
   },
   "source": [
    "### Reading in Larger Datasets with read.table\n",
    "\n",
    "With much larger datasets you can do the following things to prevent R from choking:\n",
    "* Read the help page for read.table, which contains many hints - very helpful, particularly for optimising large datasets\n",
    "* Make a rough calculation of the memory required to store your dataset. If the dataset is larger than the amount of RAM on your computer, you can probably stop here\n",
    "* Set `comment.char = \"\"` if there are no commented lines in your file\n",
    "* Use the colClasses argument, it's much faster (up to twice as fast). A quick and dirty way to figure out the classes of each column is the following:\n",
    "    * `initial <- read.table(\"datatable.txt\", nrows = 100)`\n",
    "    * `classes <- sapply(initial, class)`\n",
    "    * `tabAll <- read.table(\"datatable.txt\", colClasses = classes)`\n",
    "* Set `nrows` it doesn't make R run any faster but helps with memory usage, a mild overestimate is okay. You can use the unix tool `wc` to calculate the number of lines in a file\n",
    "\n",
    "##### Know thy system\n",
    "\n",
    "In general, when using R with larger datasets, it's useful to know a few things about your system:\n",
    "* How much memory is available?\n",
    "* What other applications are in use?\n",
    "* Is anyone else logged in?\n",
    "* What is the OS?\n",
    "* Is the OS 32 or 64 bit? You can access more memory on a 64 bit system\n",
    "\n",
    "#### Calculating Memory requirements\n",
    "\n",
    "If I have a data frame with 1,500,000 rows and 120 columns, all of which are numeric data. Roughly how much memeory is required to store this data frame?\n",
    "\n",
    "1,500,000 x 120 x 8 bytes/numeric\n",
    "1440000000 bytes\n",
    "1440000000 / 2^20 bytes/MB\n",
    "1,373.29 MB\n",
    "1.34 GB\n",
    "\n",
    "A rule of thumb is that you need about twice as much RAM than is required as a minimum for having this data on file."
   ]
  },
  {
   "cell_type": "markdown",
   "metadata": {},
   "source": [
    "## Textual Formats\n",
    "\n",
    "* `dumping` and `dput`ing are useful because the resulting textual format is editable and in case of corruption, potentially recoverable\n",
    "* Unlike writing out a table or csv, dump and dput preserve the _metadata_ (sacrificing some readability), so that another user doesn't have to specify it all over again.\n",
    "* Textual formats can work much better with VCS like git\n",
    "* Textual formats adhere to the \"Unix philosophy\"\n",
    "* Downside: not very space efficient\n",
    "\n",
    "**dput-ing R objects:**\n",
    "\n",
    "dput can only be used on a single R object"
   ]
  },
  {
   "cell_type": "code",
   "execution_count": 2,
   "metadata": {
    "collapsed": false
   },
   "outputs": [
    {
     "name": "stdout",
     "output_type": "stream",
     "text": [
      "structure(list(a = 1, b = structure(1L, .Label = \"a\", class = \"factor\")), .Names = c(\"a\", \n",
      "\"b\"), row.names = c(NA, -1L), class = \"data.frame\")\n"
     ]
    }
   ],
   "source": [
    "y <- data.frame(a = 1, b = \"a\")\n",
    "dput(y)"
   ]
  },
  {
   "cell_type": "code",
   "execution_count": 3,
   "metadata": {
    "collapsed": true
   },
   "outputs": [],
   "source": [
    "# To save to a file\n",
    "# dput(y, file = \"y.R\")\n",
    "# new.y <- dget(\"y.R\")\n",
    "# new.y"
   ]
  },
  {
   "cell_type": "markdown",
   "metadata": {},
   "source": [
    "**dumping R objects:**\n",
    "\n",
    "dump can deparse multiple objects and read back in using _parse_"
   ]
  },
  {
   "cell_type": "code",
   "execution_count": 4,
   "metadata": {
    "collapsed": true
   },
   "outputs": [],
   "source": [
    "# x <- \"foo\"\n",
    "# y <- data.frame(a = 1, b = \"a\")\n",
    "# dump(c(\"x\", \"y\"), file = \"data.R\")\n",
    "# rm(x, y) # Removes x and y\n",
    "# source (\"data.R\")\n",
    "# y\n",
    "# x"
   ]
  }
 ],
 "metadata": {
  "kernelspec": {
   "display_name": "R",
   "language": "R",
   "name": "ir"
  },
  "language_info": {
   "codemirror_mode": "r",
   "file_extension": ".r",
   "mimetype": "text/x-r-source",
   "name": "R",
   "pygments_lexer": "r",
   "version": "3.2.5"
  }
 },
 "nbformat": 4,
 "nbformat_minor": 0
}
