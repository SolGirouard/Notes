{
 "cells": [
  {
   "cell_type": "markdown",
   "metadata": {},
   "source": [
    "## Connections - Interfaces to the outside world\n",
    "\n",
    "Data are read in using _connection_ interfaces. Connections can be made to files (most common) or to more exotic things:\n",
    "* `file` opens a connection to a file\n",
    "* `gzfile` opens a connection to a file compressed with gzip\n",
    "* `bzfile` opens a connection to a file compressed with bzip2\n",
    "* `url` opens a connection to a webpage"
   ]
  },
  {
   "cell_type": "code",
   "execution_count": 1,
   "metadata": {
    "collapsed": false
   },
   "outputs": [
    {
     "name": "stdout",
     "output_type": "stream",
     "text": [
      "function (description = \"\", open = \"\", blocking = TRUE, encoding = getOption(\"encoding\"), \n",
      "    raw = FALSE)  \n"
     ]
    }
   ],
   "source": [
    "str(file)"
   ]
  },
  {
   "cell_type": "markdown",
   "metadata": {},
   "source": [
    "* description is the name of the file\n",
    "* open is a code indicating\n",
    "    * 'r' read only\n",
    "    * 'w' writing (and initialising a new file)\n",
    "    * 'a' appending\n",
    "    * 'rb', 'wb', 'ab', binary mode of the above"
   ]
  },
  {
   "cell_type": "markdown",
   "metadata": {},
   "source": [
    "Connections are powerful tools that let you navigate file or other external objects. In practice, we don't need to deal with the connection interface directly"
   ]
  },
  {
   "cell_type": "code",
   "execution_count": null,
   "metadata": {
    "collapsed": false
   },
   "outputs": [],
   "source": [
    "con <- file(\"foo.txt\", \"r\")\n",
    "data <- read.csv(con)\n",
    "close(con)\n",
    "\n",
    "#Is the same as:\n",
    "\n",
    "data <- read_csv(\"foo.txt\")"
   ]
  },
  {
   "cell_type": "markdown",
   "metadata": {},
   "source": [
    "However a connection can be useful if you want to read parts of a file"
   ]
  },
  {
   "cell_type": "code",
   "execution_count": null,
   "metadata": {
    "collapsed": true
   },
   "outputs": [],
   "source": [
    "# Read the first 10 lines of a gzipped file\n",
    "con <- gzfile(\"words.gz\")\n",
    "x <- readLines(con, 10)"
   ]
  },
  {
   "cell_type": "code",
   "execution_count": 7,
   "metadata": {
    "collapsed": false
   },
   "outputs": [
    {
     "name": "stdout",
     "output_type": "stream",
     "text": [
      "[1] \"<!DOCTYPE html>\"                                               \n",
      "[2] \"<html lang=\\\"en\\\">\"                                            \n",
      "[3] \"\"                                                              \n",
      "[4] \"<head>\"                                                        \n",
      "[5] \"<meta charset=\\\"utf-8\\\" />\"                                    \n",
      "[6] \"<title>Johns Hopkins Bloomberg School of Public Health</title>\"\n"
     ]
    }
   ],
   "source": [
    "# You can read lines of a webpage\n",
    "con <- url(\"http://www.jhsph.edu\", \"r\")\n",
    "x <- readLines(con)\n",
    "print(head(x))"
   ]
  }
 ],
 "metadata": {
  "kernelspec": {
   "display_name": "R",
   "language": "R",
   "name": "ir"
  },
  "language_info": {
   "codemirror_mode": "r",
   "file_extension": ".r",
   "mimetype": "text/x-r-source",
   "name": "R",
   "pygments_lexer": "r",
   "version": "3.2.5"
  }
 },
 "nbformat": 4,
 "nbformat_minor": 0
}
