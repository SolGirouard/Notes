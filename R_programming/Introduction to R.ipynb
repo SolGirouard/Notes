{
 "cells": [
  {
   "cell_type": "code",
   "execution_count": 3,
   "metadata": {
    "collapsed": false
   },
   "outputs": [
    {
     "data": {
      "text/html": [
       "'/Users/ben/Documents/Projects/R_programming'"
      ],
      "text/latex": [
       "'/Users/ben/Documents/Projects/R\\_programming'"
      ],
      "text/markdown": [
       "'/Users/ben/Documents/Projects/R_programming'"
      ],
      "text/plain": [
       "[1] \"/Users/ben/Documents/Projects/R_programming\""
      ]
     },
     "metadata": {},
     "output_type": "display_data"
    }
   ],
   "source": [
    "getwd()"
   ]
  },
  {
   "cell_type": "code",
   "execution_count": 5,
   "metadata": {
    "collapsed": false
   },
   "outputs": [
    {
     "data": {
      "text/html": [
       "'Introduction to R.ipynb'"
      ],
      "text/latex": [
       "'Introduction to R.ipynb'"
      ],
      "text/markdown": [
       "'Introduction to R.ipynb'"
      ],
      "text/plain": [
       "[1] \"Introduction to R.ipynb\""
      ]
     },
     "metadata": {},
     "output_type": "display_data"
    }
   ],
   "source": [
    "dir()"
   ]
  },
  {
   "cell_type": "code",
   "execution_count": 15,
   "metadata": {
    "collapsed": true
   },
   "outputs": [],
   "source": [
    "myfunction <- function(x) {\n",
    "    y <- rnorm(100)\n",
    "    mean(y)\n",
    "}\n",
    "# mean of 100 random points in a normal distribution"
   ]
  },
  {
   "cell_type": "code",
   "execution_count": 16,
   "metadata": {
    "collapsed": false
   },
   "outputs": [
    {
     "data": {
      "text/html": [
       "'myfunction'"
      ],
      "text/latex": [
       "'myfunction'"
      ],
      "text/markdown": [
       "'myfunction'"
      ],
      "text/plain": [
       "[1] \"myfunction\""
      ]
     },
     "metadata": {},
     "output_type": "display_data"
    }
   ],
   "source": [
    "ls()\n",
    "# I have a function in my workspace"
   ]
  },
  {
   "cell_type": "code",
   "execution_count": 17,
   "metadata": {
    "collapsed": false
   },
   "outputs": [
    {
     "data": {
      "text/html": [
       "0.00512233811725323"
      ],
      "text/latex": [
       "0.00512233811725323"
      ],
      "text/markdown": [
       "0.00512233811725323"
      ],
      "text/plain": [
       "[1] 0.005122338"
      ]
     },
     "metadata": {},
     "output_type": "display_data"
    }
   ],
   "source": [
    "myfunction()"
   ]
  },
  {
   "cell_type": "code",
   "execution_count": 18,
   "metadata": {
    "collapsed": true
   },
   "outputs": [],
   "source": [
    "second_function <- function(x) {\n",
    "    x + rnorm(length(x))\n",
    "}"
   ]
  },
  {
   "cell_type": "code",
   "execution_count": 20,
   "metadata": {
    "collapsed": false
   },
   "outputs": [
    {
     "data": {
      "text/html": [
       "3.9205909117454"
      ],
      "text/latex": [
       "3.9205909117454"
      ],
      "text/markdown": [
       "3.9205909117454"
      ],
      "text/plain": [
       "[1] 3.920591"
      ]
     },
     "metadata": {},
     "output_type": "display_data"
    }
   ],
   "source": [
    "second_function(3)"
   ]
  },
  {
   "cell_type": "code",
   "execution_count": 21,
   "metadata": {
    "collapsed": false
   },
   "outputs": [
    {
     "data": {
      "text/html": [
       "<ol class=list-inline>\n",
       "\t<li>5.23953875506636</li>\n",
       "\t<li>5.22905244459211</li>\n",
       "\t<li>4.75777568041738</li>\n",
       "\t<li>7.33560645509651</li>\n",
       "\t<li>9.00017709273771</li>\n",
       "\t<li>9.45803442998997</li>\n",
       "\t<li>11.2915571981767</li>\n",
       "</ol>\n"
      ],
      "text/latex": [
       "\\begin{enumerate*}\n",
       "\\item 5.23953875506636\n",
       "\\item 5.22905244459211\n",
       "\\item 4.75777568041738\n",
       "\\item 7.33560645509651\n",
       "\\item 9.00017709273771\n",
       "\\item 9.45803442998997\n",
       "\\item 11.2915571981767\n",
       "\\end{enumerate*}\n"
      ],
      "text/markdown": [
       "1. 5.23953875506636\n",
       "2. 5.22905244459211\n",
       "3. 4.75777568041738\n",
       "4. 7.33560645509651\n",
       "5. 9.00017709273771\n",
       "6. 9.45803442998997\n",
       "7. 11.2915571981767\n",
       "\n",
       "\n"
      ],
      "text/plain": [
       "[1]  5.239539  5.229052  4.757776  7.335606  9.000177  9.458034 11.291557"
      ]
     },
     "metadata": {},
     "output_type": "display_data"
    }
   ],
   "source": [
    "second_function(4:10)"
   ]
  },
  {
   "cell_type": "code",
   "execution_count": 22,
   "metadata": {
    "collapsed": false
   },
   "outputs": [
    {
     "data": {
      "text/plain": [
       "R version 3.2.5 (2016-04-14)\n",
       "Platform: x86_64-apple-darwin15.4.0 (64-bit)\n",
       "Running under: OS X 10.11.2 (El Capitan)\n",
       "\n",
       "locale:\n",
       "[1] en_GB.UTF-8/en_GB.UTF-8/en_GB.UTF-8/C/en_GB.UTF-8/en_GB.UTF-8\n",
       "\n",
       "attached base packages:\n",
       "[1] stats     graphics  grDevices utils     datasets  methods   base     \n",
       "\n",
       "loaded via a namespace (and not attached):\n",
       " [1] R6_2.1.2             magrittr_1.5         IRdisplay_0.3.0.9000\n",
       " [4] pbdZMQ_0.2-2         tools_3.2.5          base64enc_0.1-3     \n",
       " [7] uuid_0.1-2           stringi_1.0-1        IRkernel_0.6        \n",
       "[10] jsonlite_0.9.20      stringr_1.0.0        digest_0.6.9        \n",
       "[13] repr_0.7             evaluate_0.9        "
      ]
     },
     "metadata": {},
     "output_type": "display_data"
    }
   ],
   "source": [
    "sessionInfo()"
   ]
  },
  {
   "cell_type": "code",
   "execution_count": 23,
   "metadata": {
    "collapsed": false
   },
   "outputs": [
    {
     "data": {
      "text/html": [
       "1"
      ],
      "text/latex": [
       "1"
      ],
      "text/markdown": [
       "1"
      ],
      "text/plain": [
       "[1] 1"
      ]
     },
     "metadata": {},
     "output_type": "display_data"
    }
   ],
   "source": [
    "# <- is the assignment operator. x here is a numeric vector where the first value is 1\n",
    "# hash symbols denote comments\n",
    "x <- 1\n",
    "x"
   ]
  },
  {
   "cell_type": "code",
   "execution_count": 24,
   "metadata": {
    "collapsed": false
   },
   "outputs": [
    {
     "name": "stdout",
     "output_type": "stream",
     "text": [
      "[1] \"hello\"\n"
     ]
    }
   ],
   "source": [
    "msg <- \"hello\"\n",
    "print (msg)"
   ]
  },
  {
   "cell_type": "code",
   "execution_count": 26,
   "metadata": {
    "collapsed": false
   },
   "outputs": [
    {
     "name": "stdout",
     "output_type": "stream",
     "text": [
      "[1] 1\n"
     ]
    }
   ],
   "source": [
    "#The [1] indicates this is a vector with 1 dimension\n",
    "print(x)\n"
   ]
  },
  {
   "cell_type": "code",
   "execution_count": 27,
   "metadata": {
    "collapsed": true
   },
   "outputs": [],
   "source": [
    "y <- 1:20"
   ]
  },
  {
   "cell_type": "code",
   "execution_count": 28,
   "metadata": {
    "collapsed": false
   },
   "outputs": [
    {
     "name": "stdout",
     "output_type": "stream",
     "text": [
      " [1]  1  2  3  4  5  6  7  8  9 10 11 12 13 14 15 16 17 18 19 20\n"
     ]
    }
   ],
   "source": [
    "print(y)"
   ]
  },
  {
   "cell_type": "code",
   "execution_count": null,
   "metadata": {
    "collapsed": true
   },
   "outputs": [],
   "source": []
  }
 ],
 "metadata": {
  "kernelspec": {
   "display_name": "R",
   "language": "R",
   "name": "ir"
  },
  "language_info": {
   "codemirror_mode": "r",
   "file_extension": ".r",
   "mimetype": "text/x-r-source",
   "name": "R",
   "pygments_lexer": "r",
   "version": "3.2.5"
  }
 },
 "nbformat": 4,
 "nbformat_minor": 0
}
