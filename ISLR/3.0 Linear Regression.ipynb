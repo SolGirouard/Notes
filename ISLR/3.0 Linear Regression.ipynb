{
 "cells": [
  {
   "cell_type": "markdown",
   "metadata": {},
   "source": [
    "This chapter is about linear regression, a very simple approach for supervised learning.\n",
    "\n",
    "In particular, linear regression is a useful tool for predicting a quantitative response."
   ]
  },
  {
   "cell_type": "markdown",
   "metadata": {},
   "source": [
    "Given the `Advertising` data from Chapter 2, we were asked to suggest a marketing plan that will result in high product sales. \n",
    "\n",
    "What information would be useful in order to provide such a recommendation?\n",
    "\n",
    "Here are a few important questions that we might seek to address:\n",
    "\n",
    "1. _Is there a relationship between advertising budget and sales?_  \n",
    "-- Our first goal should be to determine whether the data provide evidence of an association between advertising expenditure and sales. If the evidence is weak then it could be argued that no money should be spent on advertising\n",
    "<br><br>\n",
    "2. _How strong is the relationship between advertising budget and sales?_  \n",
    "-- Assuming there is a relationship, what is the strength. In otherwords, given a certain advertising budget, can we predict sales with a high level of accuracy? This would be a strong relationship. Or is a prediction of sales based on advertising expenditure only slightly better than a random guess - This would be a weak relationship\n",
    "<br><br>\n",
    "3. _Which media contribute to sales?_  \n",
    "-- Do all three media - TV, radio and newspaper conntribut to sales, or do just one or two contribute? To answer this question, we need to find a way to separate out the individual effects of each medium when we have spent money on all three media.  \n",
    "<br><br>\n",
    "4. _How accurately can we estimate the effect of each medium on sales?_  \n",
    "-- For every dollar spent on advertising in a particular medium, by what amount will sales increase? How accurately can we predict this amount of increase?\n",
    "<br><br>\n",
    "5. _How accurately can we predict future sales?_  \n",
    "For any given level of television, radio or newspaper advertising, what is our prediction for sales, and what is the accuracy of this prediction?  \n",
    "<br><br>\n",
    "6. _Is the relationship linear?_  \n",
    "If there is approximately a straight-line relationship between advertising expenditure in the various media and sales, then linear regression is an appropriate tool. If not, then it may still be possible to transform the predictor or the response so that linear regression can be used.  \n",
    "<br><br>\n",
    "7. _Is there synergy among the advertising media?_  \n",
    "Perhaps spending \\$50,000 on television advertising and \\$50,000 on radio advertising results in more sales than allocating \\$100,000 to either television or radio individually. In marketing this is known as a synergy effect; in statistics, it is known as an interaction."
   ]
  }
 ],
 "metadata": {
  "kernelspec": {
   "display_name": "R",
   "language": "R",
   "name": "ir"
  },
  "language_info": {
   "codemirror_mode": "r",
   "file_extension": ".r",
   "mimetype": "text/x-r-source",
   "name": "R",
   "pygments_lexer": "r",
   "version": "3.3.1"
  }
 },
 "nbformat": 4,
 "nbformat_minor": 0
}
