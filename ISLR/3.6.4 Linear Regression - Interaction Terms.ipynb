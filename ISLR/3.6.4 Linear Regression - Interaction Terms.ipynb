{
 "cells": [
  {
   "cell_type": "code",
   "execution_count": 1,
   "metadata": {
    "collapsed": true
   },
   "outputs": [],
   "source": [
    "library(MASS)\n",
    "fix(Boston)"
   ]
  },
  {
   "cell_type": "markdown",
   "metadata": {},
   "source": [
    "It is easy to include interaction terms in a linear model using hte `lm()` function. The syntax `lstat:black` tells R to include an interaction term between `lstat` and `black` (`lstat` is % lower status of population, `black` is proportion of blacks by town."
   ]
  },
  {
   "cell_type": "markdown",
   "metadata": {},
   "source": [
    "The syntax `lstat * age` simulataneously includes `lstat`, `age` and the interaction term `lstat` x `age`, it is short hand for `lstat+age+lstat:age`"
   ]
  },
  {
   "cell_type": "code",
   "execution_count": 2,
   "metadata": {},
   "outputs": [
    {
     "data": {
      "text/plain": [
       "\n",
       "Call:\n",
       "lm(formula = medv ~ lstat * age, data = Boston)\n",
       "\n",
       "Residuals:\n",
       "    Min      1Q  Median      3Q     Max \n",
       "-15.806  -4.045  -1.333   2.085  27.552 \n",
       "\n",
       "Coefficients:\n",
       "              Estimate Std. Error t value Pr(>|t|)    \n",
       "(Intercept) 36.0885359  1.4698355  24.553  < 2e-16 ***\n",
       "lstat       -1.3921168  0.1674555  -8.313 8.78e-16 ***\n",
       "age         -0.0007209  0.0198792  -0.036   0.9711    \n",
       "lstat:age    0.0041560  0.0018518   2.244   0.0252 *  \n",
       "---\n",
       "Signif. codes:  0 ‘***’ 0.001 ‘**’ 0.01 ‘*’ 0.05 ‘.’ 0.1 ‘ ’ 1\n",
       "\n",
       "Residual standard error: 6.149 on 502 degrees of freedom\n",
       "Multiple R-squared:  0.5557,\tAdjusted R-squared:  0.5531 \n",
       "F-statistic: 209.3 on 3 and 502 DF,  p-value: < 2.2e-16\n"
      ]
     },
     "metadata": {},
     "output_type": "display_data"
    }
   ],
   "source": [
    "summary(lm(medv~lstat*age, data=Boston))"
   ]
  },
  {
   "cell_type": "code",
   "execution_count": 4,
   "metadata": {},
   "outputs": [
    {
     "data": {
      "text/plain": [
       "\n",
       "Call:\n",
       "lm(formula = medv ~ . - age + lstat:black, data = Boston)\n",
       "\n",
       "Residuals:\n",
       "     Min       1Q   Median       3Q      Max \n",
       "-15.2749  -2.6786  -0.5355   1.6970  25.5649 \n",
       "\n",
       "Coefficients:\n",
       "              Estimate Std. Error t value Pr(>|t|)    \n",
       "(Intercept)  3.026e+01  5.588e+00   5.416 9.57e-08 ***\n",
       "crim        -1.075e-01  3.264e-02  -3.294 0.001060 ** \n",
       "zn           4.466e-02  1.355e-02   3.296 0.001053 ** \n",
       "indus        3.405e-02  6.131e-02   0.555 0.578868    \n",
       "chas         2.740e+00  8.549e-01   3.204 0.001441 ** \n",
       "nox         -1.709e+01  3.666e+00  -4.662 4.03e-06 ***\n",
       "rm           3.627e+00  4.126e-01   8.791  < 2e-16 ***\n",
       "dis         -1.474e+00  1.895e-01  -7.778 4.36e-14 ***\n",
       "rad          3.011e-01  6.574e-02   4.580 5.91e-06 ***\n",
       "tax         -1.196e-02  3.736e-03  -3.202 0.001454 ** \n",
       "ptratio     -9.657e-01  1.297e-01  -7.448 4.27e-13 ***\n",
       "black        2.901e-02  8.072e-03   3.594 0.000359 ***\n",
       "lstat       -1.884e-01  1.382e-01  -1.363 0.173490    \n",
       "black:lstat -9.979e-04  3.862e-04  -2.584 0.010066 *  \n",
       "---\n",
       "Signif. codes:  0 ‘***’ 0.001 ‘**’ 0.01 ‘*’ 0.05 ‘.’ 0.1 ‘ ’ 1\n",
       "\n",
       "Residual standard error: 4.713 on 492 degrees of freedom\n",
       "Multiple R-squared:  0.7441,\tAdjusted R-squared:  0.7374 \n",
       "F-statistic: 110.1 on 13 and 492 DF,  p-value: < 2.2e-16\n"
      ]
     },
     "metadata": {},
     "output_type": "display_data"
    }
   ],
   "source": [
    "summary(lm(medv~.-age+lstat:black, data=Boston))"
   ]
  }
 ],
 "metadata": {
  "kernelspec": {
   "display_name": "R",
   "language": "R",
   "name": "ir"
  },
  "language_info": {
   "codemirror_mode": "r",
   "file_extension": ".r",
   "mimetype": "text/x-r-source",
   "name": "R",
   "pygments_lexer": "r",
   "version": "3.3.3"
  }
 },
 "nbformat": 4,
 "nbformat_minor": 2
}
