{
 "cells": [
  {
   "cell_type": "markdown",
   "metadata": {},
   "source": [
    "## 3.3.1. Qualitative Predictors\n",
    "\n",
    "In our discussion so far, we have assumed that all variables are quantitative. But in practice, this is not necessarily the case; often some predictors are qualitative.\n",
    "\n",
    "For example, the credit data set displayed below records depicts balance against:\n",
    "* Quantitative Predictors\n",
    "  - age\n",
    "  - cards\n",
    "  - years of education\n",
    "  - income\n",
    "  - credit limit\n",
    "  - credit rating"
   ]
  },
  {
   "cell_type": "markdown",
   "metadata": {},
   "source": [
    "![Figure 3-6](input_figures/Fig_3-6.png)"
   ]
  },
  {
   "attachments": {},
   "cell_type": "markdown",
   "metadata": {},
   "source": [
    "But we also have available to us:\n",
    "* Qualitative variables:\n",
    "  - gender\n",
    "  - student status\n",
    "  - marital status (status)\n",
    "  - ethnicity (Caucasian, African American, Asian)\n",
    "  \n",
    "How do we deal with these?"
   ]
  },
  {
   "cell_type": "markdown",
   "metadata": {},
   "source": [
    "### Predictors with only two levels\n",
    "\n",
    "Suppose we wish to investigate the differences in credit card balance between males and females, ignoring the other variables for the moment.\n",
    "\n",
    "If a qualitative predictor (also known as a factor) only has two levels, then incorporating it into a regression model is very simple. We simply create an indicator, or dummy varible, that takes on two possible numeric vales.\n",
    "\n",
    "For example, based on the gender variable, we can create a new variable that takes the form:\n",
    "\n",
    "$$\n",
    "\\\n",
    "f(n) =\n",
    "  \\begin{cases}\n",
    "    1       & \\quad \\text{if } i^{th} \\text{ person is female}\\\\\n",
    "    0       & \\quad \\text{if } i^{th} \\text{ person is male}\\\\\n",
    "  \\end{cases}\n",
    "\\\n",
    "$$\n",
    "\n",
    "and use this variable as a predictor in the regression equation. This results in the model:\n",
    "\n",
    "$$\n",
    "\\\n",
    "y_i = \\beta_0 + \\beta_1 x_i + \\epsilon_i =\n",
    "  \\begin{cases}\n",
    "    \\beta_0 + \\beta_1 + \\epsilon_i       & \\quad \\text{if } i^{th} \\text{ person is female}\\\\\n",
    "    \\beta_0 + \\epsilon_i       & \\quad \\text{if } i^{th} \\text{ person is male}\\\\\n",
    "  \\end{cases}\n",
    "\\\n",
    "$$\n",
    "\n",
    "Now $\\beta_0 $ can be interpreted as the average card balance among males, $\\beta_0 + \\beta_1 $ as the average credit card balance among females, and $\\beta_1 $ as the difference in credit card balance between females and males.\n",
    "\n",
    "The average credit card debt for males is estimated to be \\$509.80 and for females to carry \\$19.73 more debt, but the p-value was very high indicating that thre is no statistical evidence of a difference in average credit card balance between genders.\n",
    "\n",
    "The choice of 0 and 1 for the two factors is arbitrary and could just as easily been 1 and 0, or even 1 and -1"
   ]
  },
  {
   "cell_type": "markdown",
   "metadata": {},
   "source": [
    "### Qualitative predictors with more than two levels.\n",
    "\n",
    "When a qualitative predictor has more than two levels/facors, a single dummy variable cannot represent all possible values. In this situation, we can create additional dummy variables. \n",
    "\n",
    "For example, for the ethnicity variable we create two dummy variables. The first could be:\n",
    "\n",
    "$$\n",
    "\\\n",
    "x_{i1} =\n",
    "  \\begin{cases}\n",
    "    1       & \\quad \\text{if } i^{th} \\text{ person is Asian}\\\\\n",
    "    0       & \\quad \\text{if } i^{th} \\text{ person is not Asian}\\\\\n",
    "  \\end{cases}\n",
    "\\\n",
    "$$\n",
    "\n",
    "and the second could be:\n",
    "\n",
    "$$\n",
    "\\\n",
    "x_{i2} =\n",
    "  \\begin{cases}\n",
    "    1       & \\quad \\text{if } i^{th} \\text{ person is Caucasian}\\\\\n",
    "    0       & \\quad \\text{if } i^{th} \\text{ person is not not Caucasian}\\\\\n",
    "  \\end{cases}\n",
    "\\\n",
    "$$\n",
    "\n",
    "Then both of these variables can be used in the regression equation in order to obtain the model:\n",
    "\n",
    "$$\n",
    "\\\n",
    "y_{i} = \\beta_{0} + \\beta_{1}x_{i1} + \\beta_{2}x_{i2} + \\epsilon_i =\n",
    "  \\begin{cases}\n",
    "    \\beta_{0} + \\beta_{1} + \\epsilon_i       & \\quad \\text{if } i^{th} \\text{ person is Asian}\\\\\n",
    "    \\beta_{0} + \\beta_{2} + \\epsilon_i       & \\quad \\text{if } i^{th} \\text{ person is Caucasian}\\\\\n",
    "    \\beta_{0} + \\epsilon_i       & \\quad \\text{if } i^{th} \\text{ person is African American}\\\\\n",
    "  \\end{cases}\n",
    "\\\n",
    "$$\n",
    "\n",
    "Now $\\beta_{0}$ can be interpreted as the average credit card balance for African Americans, $\\beta_{1}$ as the difference between Asian and African American and $\\beta_{2}$ as the difference between Caucasian and African American.\n",
    "\n",
    "We get the following table of results:"
   ]
  },
  {
   "cell_type": "markdown",
   "metadata": {},
   "source": [
    "![Table_3-8](input_figures/Table_3-8.png)"
   ]
  },
  {
   "cell_type": "markdown",
   "metadata": {},
   "source": [
    "Asians and Caucasians have less credit card debt in the test data set but given the two large p values for the dummy variables, this suggests that there is no statistical evidence for a real difference in credit card balance between the ethnicities.\n",
    "\n",
    "The coefficients and p-values do depend on the choice of dummy variable coding. Rather than rely on the individual coefficients, we can use an F-test to test $ H_0: \\beta_1 = \\beta_2 = 0 $. This F-test has a p-value of 0.96, so we cannot reject this null hypothesis."
   ]
  },
  {
   "cell_type": "markdown",
   "metadata": {},
   "source": [
    "## 3.3.2. Extensions of the Linear Model\n",
    "\n",
    "The standard linear regression model works quite well on many real-world problems. However it makes several highly restrictive assumptions that are often violated in practice. \n",
    "\n",
    "Two of the most important assumptions state that the relationship between the predictors and response are:\n",
    "* __Additive__ - effect of changes in predictor $X_j$ on the response $Y$ is independent of the values of the other predictors\n",
    "* __Linear__ - the change in the response $Y$ due to a one-unit change in $X_j$ is constant, regardless of the value of $X_j$\n",
    "\n",
    "#### Removing the Additive assumption\n",
    "\n",
    "We have previously assumed that the effect on the response from changing one variable is independent of another variable.\n",
    "\n",
    "If we take our advertising example, what if the effect of radio advertising actually increased the effect of TV advertising, so that the slope for TV should increase as radio increases.\n",
    "\n",
    "This is known as an 'interaction' or 'synergy' effect.\n",
    "\n",
    "We can extend the standard multiple linear regression model of two predictors to include a third predictor, called an _interaction term_, which is constructed by computing the product of $X_1$ and $X_2$. This results in the model:\n",
    "\n",
    "$ Y = \\beta_0 + \\beta_1X_1 + \\beta_2X_2 + \\beta_3X_1X_2 + \\epsilon $\n",
    "\n",
    "Now the effect of $X_1$ on Y is no longer constant: adjusting $X_2$ will change the impact of $X_1$ on $Y$.\n",
    "\n",
    "Sometimes it is the case that the interaction term has a very small p-value, but the associated main effects do not. The hierachical principle statst that if we include an interaction in a model, we shoul also include the main effects, even if the p-values associated with their coefficients are not significant.\n",
    "\n",
    "We can also apply this principle for qualitative. In our credit balance example, there could be an interaction between student status and income, this model would then become:\n",
    "\n",
    "$$\n",
    "\\\n",
    "balance_i = \\beta_0 + \\beta_1 \\times \\ income_i +\n",
    "  \\begin{cases}\n",
    "    \\beta_2 + \\beta_3 \\times income_i       & \\quad \\text{if student}\\\\\n",
    "    0       & \\quad \\text{if not student}\\\\\n",
    "  \\end{cases}\n",
    "\\\n",
    "$$"
   ]
  },
  {
   "cell_type": "markdown",
   "metadata": {},
   "source": [
    "#### Non-linear relationships\n",
    "\n",
    "Some relationships are not linear, in which case we can use polynomial regression, with a model in the form:\n",
    "\n",
    "$ mpg = \\beta_0 + \\beta_1 \\times horsepower + \\beta_2 \\times\\ horsewpower^2 + \\epsilon $\n",
    "\n",
    "And this can be extended for higher order relationships. The example below shows a better fit for a quadratic shape:"
   ]
  },
  {
   "cell_type": "markdown",
   "metadata": {},
   "source": [
    "![image](input_figures/Fig_3-8.png)"
   ]
  },
  {
   "cell_type": "markdown",
   "metadata": {},
   "source": [
    "## 3.3.3. Potential Problems\n",
    "\n",
    "When we fit a linear regression model, many problems may occur. Most common are:\n",
    "1. Non-linearity of response-predictor relationships\n",
    "  - If a residual plot shows a pattern, there may by a problem with a linear model\n",
    "  - Simple approach is to use non-linear transformations such as $log X$, $\\sqrt{x}$ and $X^2$\n",
    "2. Correlation of error terms\n",
    "  - An assumption of the linear model is that error terms $e_i$, i.e. $e_1, e_2, ..., e_n$ are unrelated\n",
    "  - If error terms are correlated, we may have an unwarranted sense of confidence in our model\n",
    "  - e.g. if you accidently duplicated data, confidence intervals would be $\\sqrt{2!}$ narrower\n",
    "  - This often occurs in time series data, where adjacent residuals have similar values\n",
    "3. Non-constant variance of error terms\n",
    "  - Another assumption is that error terms have constant variance, $ Var(\\epsilon_i) = \\sigma^2 $\n",
    "4. Outliers\n",
    "5. High-leverage points\n",
    "6. Collinearity\n",
    "\n",
    "In practice, identifying and overcoming these problems is as much an art as a science"
   ]
  },
  {
   "cell_type": "markdown",
   "metadata": {},
   "source": []
  }
 ],
 "metadata": {
  "kernelspec": {
   "display_name": "R",
   "language": "R",
   "name": "ir"
  },
  "language_info": {
   "codemirror_mode": "r",
   "file_extension": ".r",
   "mimetype": "text/x-r-source",
   "name": "R",
   "pygments_lexer": "r",
   "version": "3.3.1"
  }
 },
 "nbformat": 4,
 "nbformat_minor": 2
}
